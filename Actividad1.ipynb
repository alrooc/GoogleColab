{
  "nbformat": 4,
  "nbformat_minor": 0,
  "metadata": {
    "colab": {
      "provenance": [],
      "authorship_tag": "ABX9TyOSyyLB7V77bADLa9LN5NHj",
      "include_colab_link": true
    },
    "kernelspec": {
      "name": "python3",
      "display_name": "Python 3"
    },
    "language_info": {
      "name": "python"
    }
  },
  "cells": [
    {
      "cell_type": "markdown",
      "metadata": {
        "id": "view-in-github",
        "colab_type": "text"
      },
      "source": [
        "<a href=\"https://colab.research.google.com/github/alrooc/GoogleColab/blob/main/Actividad1.ipynb\" target=\"_parent\"><img src=\"https://colab.research.google.com/assets/colab-badge.svg\" alt=\"Open In Colab\"/></a>"
      ]
    },
    {
      "cell_type": "markdown",
      "source": [
        "Utilizando un cuaderno de Jupyter Notebook y el lenguaje de programación Python, realiza las siguientes operaciones:\n",
        "\n",
        "\n",
        "\n",
        "* Genera una matriz cuadrada de 4x4.\n",
        "* Calcula su inversa y su traspuesta\n",
        "* Multiplica la matriz por un escalar.\n",
        "* Realiza el producto interno con una nueva matriz de dimensiones 4x2.\n",
        "\n"
      ],
      "metadata": {
        "id": "_1Ub2AHpEyje"
      }
    },
    {
      "cell_type": "code",
      "execution_count": null,
      "metadata": {
        "id": "hWTrJJikDpKV"
      },
      "outputs": [],
      "source": []
    }
  ]
}
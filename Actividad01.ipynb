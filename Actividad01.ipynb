{
  "nbformat": 4,
  "nbformat_minor": 0,
  "metadata": {
    "colab": {
      "provenance": [],
      "authorship_tag": "ABX9TyM2us+nt0IMxyOmH+/ucPHr",
      "include_colab_link": true
    },
    "kernelspec": {
      "name": "python3",
      "display_name": "Python 3"
    },
    "language_info": {
      "name": "python"
    }
  },
  "cells": [
    {
      "cell_type": "markdown",
      "metadata": {
        "id": "view-in-github",
        "colab_type": "text"
      },
      "source": [
        "<a href=\"https://colab.research.google.com/github/alrooc/GoogleColab/blob/main/Actividad01.ipynb\" target=\"_parent\"><img src=\"https://colab.research.google.com/assets/colab-badge.svg\" alt=\"Open In Colab\"/></a>"
      ]
    },
    {
      "cell_type": "markdown",
      "source": [
        "Utilizando un cuaderno de Jupyter Notebook y el lenguaje de programación Python, realiza las siguientes operaciones:\n",
        "\n",
        "\n",
        "\n",
        "* Genera una matriz cuadrada de 4x4.\n",
        "* Calcula su inversa y su traspuesta\n",
        "* Multiplica la matriz por un escalar.\n",
        "* Realiza el producto interno con una nueva matriz de dimensiones 4x2.\n"
      ],
      "metadata": {
        "id": "aM9PeNkKM5PC"
      }
    },
    {
      "cell_type": "code",
      "source": [
        "import numpy as np"
      ],
      "metadata": {
        "id": "5c2bdvOERBwd"
      },
      "execution_count": 3,
      "outputs": []
    },
    {
      "cell_type": "code",
      "execution_count": 7,
      "metadata": {
        "id": "hWTrJJikDpKV",
        "colab": {
          "base_uri": "https://localhost:8080/"
        },
        "outputId": "899a14c5-121f-4d0a-dc9a-f94f2a2ebd59"
      },
      "outputs": [
        {
          "output_type": "stream",
          "name": "stdout",
          "text": [
            "[[4 2 7 3]\n",
            " [6 5 5 2]\n",
            " [8 1 6 4]\n",
            " [9 0 4 1]]\n"
          ]
        }
      ],
      "source": [
        "matriz = np.array([[4,2,7,3],[6,5,5,2],[8,1,6,4],[9,0,4,1]])\n",
        "print(matriz)"
      ]
    },
    {
      "cell_type": "code",
      "source": [
        "matriz.shape"
      ],
      "metadata": {
        "colab": {
          "base_uri": "https://localhost:8080/"
        },
        "id": "pa1DuhzwRE-b",
        "outputId": "6b489fe1-3f8a-4dd3-8950-8294a6c82510"
      },
      "execution_count": 15,
      "outputs": [
        {
          "output_type": "execute_result",
          "data": {
            "text/plain": [
              "(4, 4)"
            ]
          },
          "metadata": {},
          "execution_count": 15
        }
      ]
    },
    {
      "cell_type": "markdown",
      "source": [
        "# **Inversa**"
      ],
      "metadata": {
        "id": "OJ80Fho0SFAg"
      }
    },
    {
      "cell_type": "code",
      "source": [
        "Det = np.linalg.det(matriz)\n",
        "print(Det)"
      ],
      "metadata": {
        "colab": {
          "base_uri": "https://localhost:8080/"
        },
        "id": "JO1u9n30SnXa",
        "outputId": "02cf3a4e-6516-40d6-d501-55ffa5f5ecc1"
      },
      "execution_count": 9,
      "outputs": [
        {
          "output_type": "stream",
          "name": "stdout",
          "text": [
            "368.99999999999994\n"
          ]
        }
      ]
    },
    {
      "cell_type": "markdown",
      "source": [
        "La matriz tiene una determinante de 368.99 por lo cual es mayor de 0 y es posible obtener su inversa."
      ],
      "metadata": {
        "id": "MlkDFR2MStbM"
      }
    },
    {
      "cell_type": "code",
      "source": [
        "inversa = np.linalg.inv(matriz)\n",
        "print(inversa)"
      ],
      "metadata": {
        "colab": {
          "base_uri": "https://localhost:8080/"
        },
        "id": "GLpoALlGS4Of",
        "outputId": "b7cb5fde-860b-45c2-e168-8170758ebb77"
      },
      "execution_count": 10,
      "outputs": [
        {
          "output_type": "stream",
          "name": "stdout",
          "text": [
            "[[-0.12737127  0.04065041  0.05149051  0.09485095]\n",
            " [-0.09756098  0.24390244 -0.02439024 -0.09756098]\n",
            " [ 0.34688347 -0.08943089 -0.24661247  0.12466125]\n",
            " [-0.24119241 -0.00813008  0.52303523 -0.35230352]]\n"
          ]
        }
      ]
    },
    {
      "cell_type": "markdown",
      "source": [
        "# **Traspuesta**"
      ],
      "metadata": {
        "id": "CWOpU737TwXt"
      }
    },
    {
      "cell_type": "code",
      "source": [
        "traspuesta = matriz.T\n",
        "print(traspuesta)"
      ],
      "metadata": {
        "colab": {
          "base_uri": "https://localhost:8080/"
        },
        "id": "QKAGwFPETVj2",
        "outputId": "1b497e25-5233-4bb9-bfe7-895ea8e23f69"
      },
      "execution_count": 11,
      "outputs": [
        {
          "output_type": "stream",
          "name": "stdout",
          "text": [
            "[[4 6 8 9]\n",
            " [2 5 1 0]\n",
            " [7 5 6 4]\n",
            " [3 2 4 1]]\n"
          ]
        }
      ]
    },
    {
      "cell_type": "markdown",
      "source": [
        "# **Multiplicación por escalar**"
      ],
      "metadata": {
        "id": "Z-i0n5E1UNiX"
      }
    },
    {
      "cell_type": "code",
      "source": [
        "escalar = 7\n",
        "resultado = escalar*matriz\n",
        "print(resultado)"
      ],
      "metadata": {
        "colab": {
          "base_uri": "https://localhost:8080/"
        },
        "id": "gruMF_9bUNCB",
        "outputId": "53fbc164-c60a-47ec-dca0-83505146b0ea"
      },
      "execution_count": 12,
      "outputs": [
        {
          "output_type": "stream",
          "name": "stdout",
          "text": [
            "[[28 14 49 21]\n",
            " [42 35 35 14]\n",
            " [56  7 42 28]\n",
            " [63  0 28  7]]\n"
          ]
        }
      ]
    },
    {
      "cell_type": "markdown",
      "source": [
        "# **Producto interno con una nueva matriz de dimensiones 4x2**\n",
        "\n"
      ],
      "metadata": {
        "id": "mz7ZPa7OVPBV"
      }
    },
    {
      "cell_type": "code",
      "source": [
        "matriz2 = np.array([[5,7],[1,3],[9,2],[4,0]])\n",
        "print(matriz2)"
      ],
      "metadata": {
        "colab": {
          "base_uri": "https://localhost:8080/"
        },
        "id": "jeiJ_47vVegC",
        "outputId": "162fd823-3304-49c6-bbe8-bf86b8ab09a8"
      },
      "execution_count": 22,
      "outputs": [
        {
          "output_type": "stream",
          "name": "stdout",
          "text": [
            "[[5 7]\n",
            " [1 3]\n",
            " [9 2]\n",
            " [4 0]]\n"
          ]
        }
      ]
    },
    {
      "cell_type": "code",
      "source": [
        "matriz2.shape"
      ],
      "metadata": {
        "colab": {
          "base_uri": "https://localhost:8080/"
        },
        "id": "wdZxnFEQWYYh",
        "outputId": "b28752ce-c74e-4821-b8a7-f1af2d6848b8"
      },
      "execution_count": 23,
      "outputs": [
        {
          "output_type": "execute_result",
          "data": {
            "text/plain": [
              "(4, 2)"
            ]
          },
          "metadata": {},
          "execution_count": 23
        }
      ]
    },
    {
      "cell_type": "code",
      "source": [
        "print(matriz)\n",
        "print(matriz2)"
      ],
      "metadata": {
        "colab": {
          "base_uri": "https://localhost:8080/"
        },
        "id": "zRfP3A4dWoes",
        "outputId": "2930928a-26bf-44b9-bb94-1dc48aceeb33"
      },
      "execution_count": 25,
      "outputs": [
        {
          "output_type": "stream",
          "name": "stdout",
          "text": [
            "[[4 2 7 3]\n",
            " [6 5 5 2]\n",
            " [8 1 6 4]\n",
            " [9 0 4 1]]\n",
            "[[5 7]\n",
            " [1 3]\n",
            " [9 2]\n",
            " [4 0]]\n"
          ]
        }
      ]
    },
    {
      "cell_type": "code",
      "source": [
        "interno = np.dot(matriz,matriz2)\n",
        "interno"
      ],
      "metadata": {
        "colab": {
          "base_uri": "https://localhost:8080/"
        },
        "id": "aWr-kAPgWxth",
        "outputId": "9cf1c4e8-a2d2-4184-9c7d-dd597391273d"
      },
      "execution_count": 26,
      "outputs": [
        {
          "output_type": "execute_result",
          "data": {
            "text/plain": [
              "array([[ 97,  48],\n",
              "       [ 88,  67],\n",
              "       [111,  71],\n",
              "       [ 85,  71]])"
            ]
          },
          "metadata": {},
          "execution_count": 26
        }
      ]
    },
    {
      "cell_type": "markdown",
      "source": [
        "5.\tGenera un nuevo cuaderno de Jupyter Notebook y resuelve los siguientes sistemas de ecuaciones lineales, encontrando los valores de las variables utilizando diferentes métodos:"
      ],
      "metadata": {
        "id": "1EM43K1qXyT-"
      }
    },
    {
      "cell_type": "markdown",
      "source": [
        "# **Ejercicio 1**"
      ],
      "metadata": {
        "id": "W1pO9rbscDJD"
      }
    },
    {
      "cell_type": "markdown",
      "source": [
        "![image.png](data:image/png;base64,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)"
      ],
      "metadata": {
        "id": "3fsZ2vKJX1o8"
      }
    },
    {
      "cell_type": "code",
      "source": [
        "MC = np.array([[1,2,5,-4],[5,8,1,1],[5,7,-3,2],[-1,3,9,-1]])\n",
        "print(MC)\n",
        "MS = np.array([[21],[-8],[14],[5]])\n",
        "print(MS)"
      ],
      "metadata": {
        "colab": {
          "base_uri": "https://localhost:8080/"
        },
        "id": "0pJkNHVkX0ac",
        "outputId": "b65b8026-1025-492d-e3f0-5980d65a7051"
      },
      "execution_count": 30,
      "outputs": [
        {
          "output_type": "stream",
          "name": "stdout",
          "text": [
            "[[ 1  2  5 -4]\n",
            " [ 5  8  1  1]\n",
            " [ 5  7 -3  2]\n",
            " [-1  3  9 -1]]\n",
            "[[21]\n",
            " [-8]\n",
            " [14]\n",
            " [ 5]]\n"
          ]
        }
      ]
    },
    {
      "cell_type": "markdown",
      "source": [
        "Calculo de la matriz inversa"
      ],
      "metadata": {
        "id": "Dxys0RB7Z3fl"
      }
    },
    {
      "cell_type": "code",
      "source": [
        "inversa_MC = np.linalg.inv(MC)\n",
        "print(inversa_MC)"
      ],
      "metadata": {
        "colab": {
          "base_uri": "https://localhost:8080/"
        },
        "id": "8LhKV3C5Z6zA",
        "outputId": "0fe56a11-d6be-4ee3-b94b-87d346bd850c"
      },
      "execution_count": 31,
      "outputs": [
        {
          "output_type": "stream",
          "name": "stdout",
          "text": [
            "[[-0.30701754  2.21929825 -2.11403509 -0.78070175]\n",
            " [ 0.26315789 -1.47368421  1.52631579  0.52631579]\n",
            " [-0.16666667  0.83333333 -0.83333333 -0.16666667]\n",
            " [-0.40350877  0.85964912 -0.80701754 -0.14035088]]\n"
          ]
        }
      ]
    },
    {
      "cell_type": "markdown",
      "source": [
        "Calculo del producto punto o producto interno"
      ],
      "metadata": {
        "id": "Aqgg0bkmaKZN"
      }
    },
    {
      "cell_type": "code",
      "source": [
        "resultado = np.dot(inversa_MC,MS)\n",
        "print(resultado)\n"
      ],
      "metadata": {
        "colab": {
          "base_uri": "https://localhost:8080/"
        },
        "id": "JnADZHbVaRyt",
        "outputId": "62f9c01b-b5d8-4534-f4ad-87671152c350"
      },
      "execution_count": 32,
      "outputs": [
        {
          "output_type": "stream",
          "name": "stdout",
          "text": [
            "[[-57.70175439]\n",
            " [ 41.31578947]\n",
            " [-22.66666667]\n",
            " [-27.35087719]]\n"
          ]
        }
      ]
    },
    {
      "cell_type": "markdown",
      "source": [
        "# **Ejercicio 2**"
      ],
      "metadata": {
        "id": "UQBB-LO2cHP3"
      }
    },
    {
      "cell_type": "markdown",
      "source": [
        "![image.png](data:image/png;base64,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)"
      ],
      "metadata": {
        "id": "pNgPhrvucReG"
      }
    },
    {
      "cell_type": "code",
      "source": [
        "MC2 = np.array([[6,0,8],[2,2,1],[4,1,0]])\n",
        "print(MC2)\n",
        "MS2 = np.array([[9],[15],[-4]])\n",
        "print(MS2)"
      ],
      "metadata": {
        "colab": {
          "base_uri": "https://localhost:8080/"
        },
        "id": "6Pi7swZ-cKAr",
        "outputId": "fc80a00a-0401-4989-d766-67f15fb95228"
      },
      "execution_count": 33,
      "outputs": [
        {
          "output_type": "stream",
          "name": "stdout",
          "text": [
            "[[6 0 8]\n",
            " [2 2 1]\n",
            " [4 1 0]]\n",
            "[[ 9]\n",
            " [15]\n",
            " [-4]]\n"
          ]
        }
      ]
    },
    {
      "cell_type": "markdown",
      "source": [
        "Calculo de la matriz inversa"
      ],
      "metadata": {
        "id": "fCOyW8fbdimD"
      }
    },
    {
      "cell_type": "code",
      "source": [
        "inversa_MC2 = np.linalg.inv(MC2)\n",
        "print(inversa_MC2)"
      ],
      "metadata": {
        "colab": {
          "base_uri": "https://localhost:8080/"
        },
        "id": "_4yfUr1FdXm-",
        "outputId": "b3f8ccce-90ff-49ea-c853-1fe14411fc21"
      },
      "execution_count": 34,
      "outputs": [
        {
          "output_type": "stream",
          "name": "stdout",
          "text": [
            "[[ 0.01851852 -0.14814815  0.2962963 ]\n",
            " [-0.07407407  0.59259259 -0.18518519]\n",
            " [ 0.11111111  0.11111111 -0.22222222]]\n"
          ]
        }
      ]
    },
    {
      "cell_type": "markdown",
      "source": [
        "Solución por forma alternativa"
      ],
      "metadata": {
        "id": "NRaV0S65eEtx"
      }
    },
    {
      "cell_type": "code",
      "source": [
        "resultado2 = inversa_MC2.dot(MS2)\n",
        "print(resultado2)"
      ],
      "metadata": {
        "colab": {
          "base_uri": "https://localhost:8080/"
        },
        "id": "SasCDO2zeEJ6",
        "outputId": "ee0c0474-ae67-4217-c6bd-f86a185ffa8e"
      },
      "execution_count": 35,
      "outputs": [
        {
          "output_type": "stream",
          "name": "stdout",
          "text": [
            "[[-3.24074074]\n",
            " [ 8.96296296]\n",
            " [ 3.55555556]]\n"
          ]
        }
      ]
    },
    {
      "cell_type": "markdown",
      "source": [
        "Solución alternativa directa"
      ],
      "metadata": {
        "id": "Z99oKPBYfQze"
      }
    },
    {
      "cell_type": "code",
      "source": [
        "resultado3 = np.linalg.solve(MC2,MS2)\n",
        "print(resultado3)"
      ],
      "metadata": {
        "colab": {
          "base_uri": "https://localhost:8080/"
        },
        "id": "awaCDdUwfUKC",
        "outputId": "863d2119-f551-4668-daed-0f5be22adaa6"
      },
      "execution_count": 36,
      "outputs": [
        {
          "output_type": "stream",
          "name": "stdout",
          "text": [
            "[[-3.24074074]\n",
            " [ 8.96296296]\n",
            " [ 3.55555556]]\n"
          ]
        }
      ]
    }
  ]
}
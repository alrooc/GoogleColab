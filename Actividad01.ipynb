{
  "nbformat": 4,
  "nbformat_minor": 0,
  "metadata": {
    "colab": {
      "provenance": [],
      "authorship_tag": "ABX9TyM+TpVY4du5Clfvwp4laBSS",
      "include_colab_link": true
    },
    "kernelspec": {
      "name": "python3",
      "display_name": "Python 3"
    },
    "language_info": {
      "name": "python"
    }
  },
  "cells": [
    {
      "cell_type": "markdown",
      "metadata": {
        "id": "view-in-github",
        "colab_type": "text"
      },
      "source": [
        "<a href=\"https://colab.research.google.com/github/alrooc/GoogleColab/blob/main/Actividad01.ipynb\" target=\"_parent\"><img src=\"https://colab.research.google.com/assets/colab-badge.svg\" alt=\"Open In Colab\"/></a>"
      ]
    },
    {
      "cell_type": "markdown",
      "source": [
        "Utilizando un cuaderno de Jupyter Notebook y el lenguaje de programación Python, realiza las siguientes operaciones:\n",
        "\n",
        "\n",
        "\n",
        "* Genera una matriz cuadrada de 4x4.\n",
        "* Calcula su inversa y su traspuesta\n",
        "* Multiplica la matriz por un escalar.\n",
        "* Realiza el producto interno con una nueva matriz de dimensiones 4x2.\n"
      ],
      "metadata": {
        "id": "aM9PeNkKM5PC"
      }
    },
    {
      "cell_type": "code",
      "execution_count": 1,
      "metadata": {
        "id": "hWTrJJikDpKV",
        "colab": {
          "base_uri": "https://localhost:8080/"
        },
        "outputId": "ba45f743-0f38-4036-83b8-564ca15e3302"
      },
      "outputs": [
        {
          "output_type": "stream",
          "name": "stdout",
          "text": [
            "hola\n"
          ]
        }
      ],
      "source": [
        "print(\"hola\")"
      ]
    }
  ]
}
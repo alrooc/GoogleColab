{
  "nbformat": 4,
  "nbformat_minor": 0,
  "metadata": {
    "colab": {
      "provenance": [],
      "include_colab_link": true
    },
    "kernelspec": {
      "name": "python3",
      "display_name": "Python 3"
    },
    "language_info": {
      "name": "python"
    }
  },
  "cells": [
    {
      "cell_type": "markdown",
      "metadata": {
        "id": "view-in-github",
        "colab_type": "text"
      },
      "source": [
        "<a href=\"https://colab.research.google.com/github/alrooc/GoogleColab/blob/main/Tema02_AlgebraLineal.ipynb\" target=\"_parent\"><img src=\"https://colab.research.google.com/assets/colab-badge.svg\" alt=\"Open In Colab\"/></a>"
      ]
    },
    {
      "cell_type": "markdown",
      "source": [
        "# Álgebra lineal (Numpy)\n",
        "\n"
      ],
      "metadata": {
        "id": "umiG5bCzFof5"
      }
    },
    {
      "cell_type": "code",
      "source": [
        "import numpy as np"
      ],
      "metadata": {
        "id": "vN8GUDM-HUK2"
      },
      "execution_count": null,
      "outputs": []
    },
    {
      "cell_type": "markdown",
      "source": [
        "## Vectores"
      ],
      "metadata": {
        "id": "KPfZSiPGIPTF"
      }
    },
    {
      "cell_type": "markdown",
      "source": [
        "En Python, un escalar se puede representar por un simple número y un vector como la agrupación de varios de estos"
      ],
      "metadata": {
        "id": "1j2uQhb2HN8D"
      }
    },
    {
      "cell_type": "code",
      "execution_count": null,
      "metadata": {
        "colab": {
          "base_uri": "https://localhost:8080/"
        },
        "id": "kBzmUbfDFjII",
        "outputId": "38ec4d92-722f-46cc-d1f6-f47340b94185"
      },
      "outputs": [
        {
          "output_type": "stream",
          "name": "stdout",
          "text": [
            "10\n"
          ]
        }
      ],
      "source": [
        "escalar = 10\n",
        "print(escalar)"
      ]
    },
    {
      "cell_type": "code",
      "source": [
        "vector  = np.array([1,3,2,4])\n",
        "print(vector)"
      ],
      "metadata": {
        "colab": {
          "base_uri": "https://localhost:8080/"
        },
        "id": "vmU2VbGSHaN_",
        "outputId": "f6881617-7044-4c19-8d2b-53e17abcc202"
      },
      "execution_count": null,
      "outputs": [
        {
          "output_type": "stream",
          "name": "stdout",
          "text": [
            "[1 3 2 4]\n"
          ]
        }
      ]
    },
    {
      "cell_type": "code",
      "source": [
        "type(vector)"
      ],
      "metadata": {
        "colab": {
          "base_uri": "https://localhost:8080/"
        },
        "id": "VPJ263sfHoLo",
        "outputId": "75101082-a0ce-4a1a-8329-3c1f2da33173"
      },
      "execution_count": null,
      "outputs": [
        {
          "output_type": "execute_result",
          "data": {
            "text/plain": [
              "numpy.ndarray"
            ]
          },
          "metadata": {},
          "execution_count": 4
        }
      ]
    },
    {
      "cell_type": "code",
      "source": [
        "rest = escalar * vector\n",
        "rest"
      ],
      "metadata": {
        "colab": {
          "base_uri": "https://localhost:8080/"
        },
        "id": "HywVnI9aSCmU",
        "outputId": "65704a4d-9854-466e-eeab-a24936d85420"
      },
      "execution_count": null,
      "outputs": [
        {
          "output_type": "execute_result",
          "data": {
            "text/plain": [
              "array([10, 30, 20, 40])"
            ]
          },
          "metadata": {},
          "execution_count": 5
        }
      ]
    },
    {
      "cell_type": "code",
      "source": [
        "vector.shape"
      ],
      "metadata": {
        "colab": {
          "base_uri": "https://localhost:8080/"
        },
        "id": "Er3hZOXZS683",
        "outputId": "1486997b-98f9-4964-f251-23d90b5e0384"
      },
      "execution_count": null,
      "outputs": [
        {
          "output_type": "execute_result",
          "data": {
            "text/plain": [
              "(4,)"
            ]
          },
          "metadata": {},
          "execution_count": 6
        }
      ]
    },
    {
      "cell_type": "code",
      "source": [
        "vector2  = np.array([[1,3,2,4]])\n",
        "print(vector2)"
      ],
      "metadata": {
        "colab": {
          "base_uri": "https://localhost:8080/"
        },
        "id": "fqaosDjkTI4R",
        "outputId": "33ee72b1-9211-49c8-a5c8-ca6db71bb0e4"
      },
      "execution_count": null,
      "outputs": [
        {
          "output_type": "stream",
          "name": "stdout",
          "text": [
            "[[1 3 2 4]]\n"
          ]
        }
      ]
    },
    {
      "cell_type": "code",
      "source": [
        "vector2.shape"
      ],
      "metadata": {
        "colab": {
          "base_uri": "https://localhost:8080/"
        },
        "id": "NKEu7YHxTXl5",
        "outputId": "63bd373f-dccb-4411-c8d3-83285b76060b"
      },
      "execution_count": null,
      "outputs": [
        {
          "output_type": "execute_result",
          "data": {
            "text/plain": [
              "(1, 4)"
            ]
          },
          "metadata": {},
          "execution_count": 8
        }
      ]
    },
    {
      "cell_type": "markdown",
      "source": [
        "Vector Columna"
      ],
      "metadata": {
        "id": "eKy1IgR9SdnM"
      }
    },
    {
      "cell_type": "code",
      "source": [
        "vector3 = np.array([[1],[3],[2],[4]])"
      ],
      "metadata": {
        "id": "PwFSbc7VScLY"
      },
      "execution_count": null,
      "outputs": []
    },
    {
      "cell_type": "code",
      "source": [
        "vector3.shape"
      ],
      "metadata": {
        "colab": {
          "base_uri": "https://localhost:8080/"
        },
        "id": "A-ptKtjIS_O0",
        "outputId": "6e28ba55-3d75-45a3-d9f4-7e8b26e7785b"
      },
      "execution_count": null,
      "outputs": [
        {
          "output_type": "execute_result",
          "data": {
            "text/plain": [
              "(4, 1)"
            ]
          },
          "metadata": {},
          "execution_count": 10
        }
      ]
    },
    {
      "cell_type": "code",
      "source": [
        "vector4 = np.transpose(vector2)"
      ],
      "metadata": {
        "id": "7XLAmeOwTXji"
      },
      "execution_count": null,
      "outputs": []
    },
    {
      "cell_type": "code",
      "source": [
        "vector4"
      ],
      "metadata": {
        "colab": {
          "base_uri": "https://localhost:8080/"
        },
        "id": "NGred0AuTgB3",
        "outputId": "8f531cfa-1b2f-4e17-9262-ac72ee9ede0f"
      },
      "execution_count": null,
      "outputs": [
        {
          "output_type": "execute_result",
          "data": {
            "text/plain": [
              "array([[1],\n",
              "       [3],\n",
              "       [2],\n",
              "       [4]])"
            ]
          },
          "metadata": {},
          "execution_count": 12
        }
      ]
    },
    {
      "cell_type": "markdown",
      "source": [
        "## Matrices"
      ],
      "metadata": {
        "id": "b2DRBgdpIS2s"
      }
    },
    {
      "cell_type": "code",
      "source": [
        "matriz = np.array([[4,2],[6,5],[8,1]])\n",
        "print(matriz)"
      ],
      "metadata": {
        "colab": {
          "base_uri": "https://localhost:8080/"
        },
        "id": "8Yk0HhGjHx_o",
        "outputId": "426da5a3-37f9-4b10-ae75-8b8524583145"
      },
      "execution_count": null,
      "outputs": [
        {
          "output_type": "stream",
          "name": "stdout",
          "text": [
            "[[4 2]\n",
            " [6 5]\n",
            " [8 1]]\n"
          ]
        }
      ]
    },
    {
      "cell_type": "code",
      "source": [
        "matriz.shape"
      ],
      "metadata": {
        "colab": {
          "base_uri": "https://localhost:8080/"
        },
        "id": "PsBFwXI-J_EQ",
        "outputId": "73c17490-2c5c-4c8d-980e-fe33fd568ea8"
      },
      "execution_count": null,
      "outputs": [
        {
          "output_type": "execute_result",
          "data": {
            "text/plain": [
              "(3, 2)"
            ]
          },
          "metadata": {},
          "execution_count": 14
        }
      ]
    },
    {
      "cell_type": "markdown",
      "source": [
        "**Operación de adición y multiplicación**"
      ],
      "metadata": {
        "id": "SQCCts46J5LR"
      }
    },
    {
      "cell_type": "code",
      "source": [
        "A = np.array([[1,8],[3,5]])\n",
        "B = np.array([[2,5],[6,1]])\n",
        "C = A + B\n",
        "print(C)"
      ],
      "metadata": {
        "colab": {
          "base_uri": "https://localhost:8080/"
        },
        "id": "cMhENz3UJ6a0",
        "outputId": "5e5e1060-24f9-4aef-9b10-b6c91a69baf0"
      },
      "execution_count": null,
      "outputs": [
        {
          "output_type": "stream",
          "name": "stdout",
          "text": [
            "[[ 3 13]\n",
            " [ 9  6]]\n"
          ]
        }
      ]
    },
    {
      "cell_type": "code",
      "source": [
        "C = B + A\n",
        "print(C)"
      ],
      "metadata": {
        "colab": {
          "base_uri": "https://localhost:8080/"
        },
        "id": "Wk_RojtXUCpv",
        "outputId": "c12f12f4-b574-4d49-cf75-ccbfc132c1ac"
      },
      "execution_count": null,
      "outputs": [
        {
          "output_type": "stream",
          "name": "stdout",
          "text": [
            "[[ 3 13]\n",
            " [ 9  6]]\n"
          ]
        }
      ]
    },
    {
      "cell_type": "code",
      "source": [
        "print(B*A)"
      ],
      "metadata": {
        "colab": {
          "base_uri": "https://localhost:8080/"
        },
        "id": "SIDB8xaCUcaZ",
        "outputId": "ebd76615-7fa3-46ae-f8e0-e0ac70ccbc44"
      },
      "execution_count": null,
      "outputs": [
        {
          "output_type": "stream",
          "name": "stdout",
          "text": [
            "[[ 2 40]\n",
            " [18  5]]\n"
          ]
        }
      ]
    },
    {
      "cell_type": "code",
      "source": [
        "print(A*B)"
      ],
      "metadata": {
        "colab": {
          "base_uri": "https://localhost:8080/"
        },
        "id": "fLvGbkO_JwqN",
        "outputId": "d22cd2f4-d936-4472-c85b-a6e0aa3f1066"
      },
      "execution_count": null,
      "outputs": [
        {
          "output_type": "stream",
          "name": "stdout",
          "text": [
            "[[ 2 40]\n",
            " [18  5]]\n"
          ]
        }
      ]
    },
    {
      "cell_type": "markdown",
      "source": [
        "**Multiplicación de matrices**\n",
        "\n",
        "\n",
        "![image.png](data:image/png;base64,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)\n",
        "\n",
        "\n",
        "Las matrices solo pueden multiplicarse si sus dimensiones vecinas coinciden:\n",
        "\n",
        "![image.png](data:image/png;base64,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)\n",
        "\n",
        "La multiplicación de matrices no es conmutativa"
      ],
      "metadata": {
        "id": "JFHgvQQ_LEHw"
      }
    },
    {
      "cell_type": "code",
      "source": [
        "D = np.dot(A,B)\n",
        "print(D)"
      ],
      "metadata": {
        "colab": {
          "base_uri": "https://localhost:8080/"
        },
        "id": "lAxGhj18KuXo",
        "outputId": "7b145267-94a7-45e6-8632-aef3cd3049bf"
      },
      "execution_count": null,
      "outputs": [
        {
          "output_type": "stream",
          "name": "stdout",
          "text": [
            "[[50 13]\n",
            " [36 20]]\n"
          ]
        }
      ]
    },
    {
      "cell_type": "code",
      "source": [
        "E = np.dot(B,A)\n",
        "print(E)"
      ],
      "metadata": {
        "colab": {
          "base_uri": "https://localhost:8080/"
        },
        "id": "N1ysJdaSL-5G",
        "outputId": "b49f48e5-bb7b-412c-f1d1-d65711c804b9"
      },
      "execution_count": null,
      "outputs": [
        {
          "output_type": "stream",
          "name": "stdout",
          "text": [
            "[[17 41]\n",
            " [ 9 53]]\n"
          ]
        }
      ]
    },
    {
      "cell_type": "markdown",
      "source": [
        "Ejemplo de error al multiplicar matrices de diferentes dimensiones."
      ],
      "metadata": {
        "id": "V40K2TzSNOrU"
      }
    },
    {
      "cell_type": "code",
      "source": [
        "F = np.array([[2,5],[7,2],[9,5]])\n",
        "G = np.dot(A,F)"
      ],
      "metadata": {
        "colab": {
          "base_uri": "https://localhost:8080/",
          "height": 228
        },
        "id": "Qi1TpymyMHGi",
        "outputId": "f45bf02d-8c60-44fa-a5e3-40524efa174f"
      },
      "execution_count": null,
      "outputs": [
        {
          "output_type": "error",
          "ename": "ValueError",
          "evalue": "ignored",
          "traceback": [
            "\u001b[0;31m---------------------------------------------------------------------------\u001b[0m",
            "\u001b[0;31mValueError\u001b[0m                                Traceback (most recent call last)",
            "\u001b[0;32m<ipython-input-21-2c0294844efd>\u001b[0m in \u001b[0;36m<cell line: 2>\u001b[0;34m()\u001b[0m\n\u001b[1;32m      1\u001b[0m \u001b[0mF\u001b[0m \u001b[0;34m=\u001b[0m \u001b[0mnp\u001b[0m\u001b[0;34m.\u001b[0m\u001b[0marray\u001b[0m\u001b[0;34m(\u001b[0m\u001b[0;34m[\u001b[0m\u001b[0;34m[\u001b[0m\u001b[0;36m2\u001b[0m\u001b[0;34m,\u001b[0m\u001b[0;36m5\u001b[0m\u001b[0;34m]\u001b[0m\u001b[0;34m,\u001b[0m\u001b[0;34m[\u001b[0m\u001b[0;36m7\u001b[0m\u001b[0;34m,\u001b[0m\u001b[0;36m2\u001b[0m\u001b[0;34m]\u001b[0m\u001b[0;34m,\u001b[0m\u001b[0;34m[\u001b[0m\u001b[0;36m9\u001b[0m\u001b[0;34m,\u001b[0m\u001b[0;36m5\u001b[0m\u001b[0;34m]\u001b[0m\u001b[0;34m]\u001b[0m\u001b[0;34m)\u001b[0m\u001b[0;34m\u001b[0m\u001b[0;34m\u001b[0m\u001b[0m\n\u001b[0;32m----> 2\u001b[0;31m \u001b[0mG\u001b[0m \u001b[0;34m=\u001b[0m \u001b[0mnp\u001b[0m\u001b[0;34m.\u001b[0m\u001b[0mdot\u001b[0m\u001b[0;34m(\u001b[0m\u001b[0mA\u001b[0m\u001b[0;34m,\u001b[0m\u001b[0mF\u001b[0m\u001b[0;34m)\u001b[0m\u001b[0;34m\u001b[0m\u001b[0;34m\u001b[0m\u001b[0m\n\u001b[0m",
            "\u001b[0;32m/usr/local/lib/python3.10/dist-packages/numpy/core/overrides.py\u001b[0m in \u001b[0;36mdot\u001b[0;34m(*args, **kwargs)\u001b[0m\n",
            "\u001b[0;31mValueError\u001b[0m: shapes (2,2) and (3,2) not aligned: 2 (dim 1) != 3 (dim 0)"
          ]
        }
      ]
    },
    {
      "cell_type": "code",
      "source": [
        "G = np.dot(F,A)\n",
        "G"
      ],
      "metadata": {
        "colab": {
          "base_uri": "https://localhost:8080/"
        },
        "id": "rTgNZDmvVwNn",
        "outputId": "2164ab5e-e6c1-4421-a2f7-e6abc012bd42"
      },
      "execution_count": null,
      "outputs": [
        {
          "output_type": "execute_result",
          "data": {
            "text/plain": [
              "array([[17, 41],\n",
              "       [13, 66],\n",
              "       [24, 97]])"
            ]
          },
          "metadata": {},
          "execution_count": 22
        }
      ]
    },
    {
      "cell_type": "markdown",
      "source": [
        "**Inversa y traspuesta**"
      ],
      "metadata": {
        "id": "KfczgG8ZNYUy"
      }
    },
    {
      "cell_type": "code",
      "source": [
        "J = np.array([[2,5,4],[7,2,1],[4,9,5]])\n",
        "print(J)"
      ],
      "metadata": {
        "colab": {
          "base_uri": "https://localhost:8080/"
        },
        "id": "2GIW1L1MNcsY",
        "outputId": "56fb0bae-fe3f-4456-ac00-d52f2bec505f"
      },
      "execution_count": null,
      "outputs": [
        {
          "output_type": "stream",
          "name": "stdout",
          "text": [
            "[[2 5 4]\n",
            " [7 2 1]\n",
            " [4 9 5]]\n"
          ]
        }
      ]
    },
    {
      "cell_type": "markdown",
      "source": [
        "Una condición que se puede evaluar para identificar si una matriz tiene inversa es calcular su determinante, el cual debe ser diferente de 0."
      ],
      "metadata": {
        "id": "Ev_7Ubmjj3yU"
      }
    },
    {
      "cell_type": "code",
      "source": [
        "Det = np.linalg.det(J)\n",
        "print(Det)"
      ],
      "metadata": {
        "colab": {
          "base_uri": "https://localhost:8080/"
        },
        "id": "YAnmpzRO7kIB",
        "outputId": "964c6e75-34c3-4236-ff8f-e26466224110"
      },
      "execution_count": null,
      "outputs": [
        {
          "output_type": "stream",
          "name": "stdout",
          "text": [
            "67.00000000000004\n"
          ]
        }
      ]
    },
    {
      "cell_type": "markdown",
      "source": [
        "Si una matriz es cuadrada, se puede encontrar su inversa de la siguiente forma:"
      ],
      "metadata": {
        "id": "lAeg9DaBPS3T"
      }
    },
    {
      "cell_type": "code",
      "source": [
        "inversa_J = np.linalg.inv(J)\n",
        "print(inversa_J)"
      ],
      "metadata": {
        "colab": {
          "base_uri": "https://localhost:8080/"
        },
        "id": "j2aHzpMqLAaI",
        "outputId": "f0282e32-227e-4668-9f13-25a4e700d9b6"
      },
      "execution_count": null,
      "outputs": [
        {
          "output_type": "stream",
          "name": "stdout",
          "text": [
            "[[ 0.01492537  0.1641791  -0.04477612]\n",
            " [-0.46268657 -0.08955224  0.3880597 ]\n",
            " [ 0.82089552  0.02985075 -0.46268657]]\n"
          ]
        }
      ]
    },
    {
      "cell_type": "markdown",
      "source": [
        "Traspuesta"
      ],
      "metadata": {
        "id": "aRGlXkZ0LON0"
      }
    },
    {
      "cell_type": "code",
      "source": [
        "H = J.T\n",
        "print(H)"
      ],
      "metadata": {
        "colab": {
          "base_uri": "https://localhost:8080/"
        },
        "id": "y70V6GPaLFvw",
        "outputId": "5201ac42-2fff-4000-cd48-45ad26190396"
      },
      "execution_count": null,
      "outputs": [
        {
          "output_type": "stream",
          "name": "stdout",
          "text": [
            "[[2 7 4]\n",
            " [5 2 9]\n",
            " [4 1 5]]\n"
          ]
        }
      ]
    },
    {
      "cell_type": "markdown",
      "source": [
        "**Multiplicación por un escalar**"
      ],
      "metadata": {
        "id": "AyX-hYYRQHXn"
      }
    },
    {
      "cell_type": "code",
      "source": [
        "segundo_escalar = 6\n",
        "producto_escalar = segundo_escalar*J\n",
        "print(producto_escalar)"
      ],
      "metadata": {
        "colab": {
          "base_uri": "https://localhost:8080/"
        },
        "id": "VOOS7mk6QYKq",
        "outputId": "bcbd418f-6c09-483e-c175-9107f025e388"
      },
      "execution_count": null,
      "outputs": [
        {
          "output_type": "stream",
          "name": "stdout",
          "text": [
            "[[12 30 24]\n",
            " [42 12  6]\n",
            " [24 54 30]]\n"
          ]
        }
      ]
    },
    {
      "cell_type": "markdown",
      "source": [
        "## Solución de sistemas de ecuaciones lineales simples"
      ],
      "metadata": {
        "id": "vLPoh127IgoR"
      }
    },
    {
      "cell_type": "markdown",
      "source": [
        "### Método de la matriz inversa"
      ],
      "metadata": {
        "id": "2LUtCse8TBGU"
      }
    },
    {
      "cell_type": "markdown",
      "source": [
        "![image.png](data:image/png;base64,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)"
      ],
      "metadata": {
        "id": "jUnfYczJUHBB"
      }
    },
    {
      "cell_type": "markdown",
      "source": [
        "Se desea encontrar la solución al siguiente sistema de ecuaciones:"
      ],
      "metadata": {
        "id": "Rmgsj0k7SY-O"
      }
    },
    {
      "cell_type": "markdown",
      "source": [
        "![image.png](data:image/png;base64,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)"
      ],
      "metadata": {
        "id": "OeDCc858Sbl8"
      }
    },
    {
      "cell_type": "markdown",
      "source": [
        "Como primer paso, llevaremos al sistema de ecuaciones a su notación matricial:"
      ],
      "metadata": {
        "id": "_r7z1EL2Set8"
      }
    },
    {
      "cell_type": "markdown",
      "source": [
        "![image.png](data:image/png;base64,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)"
      ],
      "metadata": {
        "id": "IIyRUTQGSflA"
      }
    },
    {
      "cell_type": "code",
      "source": [
        "MC = np.array([[3,2,5],[1,4,-7],[4,-2,1]])\n",
        "print(MC)\n",
        "MS = np.array([[19],[8],[24]])\n",
        "print(MS)"
      ],
      "metadata": {
        "id": "FFSNB9yASRMA",
        "colab": {
          "base_uri": "https://localhost:8080/"
        },
        "outputId": "77d9d532-03f6-4554-e10b-cd8bc541566b"
      },
      "execution_count": null,
      "outputs": [
        {
          "output_type": "stream",
          "name": "stdout",
          "text": [
            "[[ 3  2  5]\n",
            " [ 1  4 -7]\n",
            " [ 4 -2  1]]\n",
            "[[19]\n",
            " [ 8]\n",
            " [24]]\n"
          ]
        }
      ]
    },
    {
      "cell_type": "markdown",
      "source": [
        "Calculamos la matriz inversa:"
      ],
      "metadata": {
        "id": "vuGwOCI2UQTx"
      }
    },
    {
      "cell_type": "code",
      "source": [
        "inversa_MC = np.linalg.inv(MC)\n",
        "print(inversa_MC)\n"
      ],
      "metadata": {
        "colab": {
          "base_uri": "https://localhost:8080/"
        },
        "id": "3D4ei8hQURV_",
        "outputId": "2212c9a5-3c46-48f3-e00d-dd906111cfb8"
      },
      "execution_count": null,
      "outputs": [
        {
          "output_type": "stream",
          "name": "stdout",
          "text": [
            "[[ 0.05617978  0.06741573  0.19101124]\n",
            " [ 0.16292135  0.09550562 -0.14606742]\n",
            " [ 0.1011236  -0.07865169 -0.05617978]]\n"
          ]
        }
      ]
    },
    {
      "cell_type": "markdown",
      "source": [
        "Se calcula el producto punto (producto interno):"
      ],
      "metadata": {
        "id": "SdJOQzM8UfTq"
      }
    },
    {
      "cell_type": "code",
      "source": [
        "solucion_1 = np.dot(inversa_MC,MS)\n",
        "print(solucion_1)"
      ],
      "metadata": {
        "colab": {
          "base_uri": "https://localhost:8080/"
        },
        "id": "hiSvNOGKVBN_",
        "outputId": "4fe5796a-43b9-47da-de24-581ed9fbbe50"
      },
      "execution_count": null,
      "outputs": [
        {
          "output_type": "stream",
          "name": "stdout",
          "text": [
            "[[ 6.19101124]\n",
            " [ 0.35393258]\n",
            " [-0.05617978]]\n"
          ]
        }
      ]
    },
    {
      "cell_type": "markdown",
      "source": [
        "*Forma alternativa*"
      ],
      "metadata": {
        "id": "Rp3AqQUhWd_p"
      }
    },
    {
      "cell_type": "code",
      "source": [
        "solucion_1 = inversa_MC.dot(MS)\n",
        "print(solucion_1)"
      ],
      "metadata": {
        "colab": {
          "base_uri": "https://localhost:8080/"
        },
        "id": "qb0aLrjfVKQ9",
        "outputId": "57f28f42-4514-42ff-ca73-03b004b527c0"
      },
      "execution_count": null,
      "outputs": [
        {
          "output_type": "stream",
          "name": "stdout",
          "text": [
            "[[ 6.19101124]\n",
            " [ 0.35393258]\n",
            " [-0.05617978]]\n"
          ]
        }
      ]
    },
    {
      "cell_type": "markdown",
      "source": [
        "### Método directo (función Solve)"
      ],
      "metadata": {
        "id": "dCjCHsNcXt6O"
      }
    },
    {
      "cell_type": "code",
      "source": [
        "solucion_2 = np.linalg.solve(MC,MS)\n",
        "print(solucion_2)"
      ],
      "metadata": {
        "colab": {
          "base_uri": "https://localhost:8080/"
        },
        "id": "h3M2x4EfVcVc",
        "outputId": "357cac2f-c83b-4fbd-dc86-d8516f5f935b"
      },
      "execution_count": null,
      "outputs": [
        {
          "output_type": "stream",
          "name": "stdout",
          "text": [
            "[[ 6.19101124]\n",
            " [ 0.35393258]\n",
            " [-0.05617978]]\n"
          ]
        }
      ]
    }
  ]
}